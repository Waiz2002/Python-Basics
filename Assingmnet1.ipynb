{
  "nbformat": 4,
  "nbformat_minor": 0,
  "metadata": {
    "colab": {
      "provenance": []
    },
    "kernelspec": {
      "name": "python3",
      "display_name": "Python 3"
    },
    "language_info": {
      "name": "python"
    }
  },
  "cells": [
    {
      "cell_type": "markdown",
      "source": [
        "#Python Basics Questions\n",
        "\n"
      ],
      "metadata": {
        "id": "O5p7Q2gGCMV1"
      }
    },
    {
      "cell_type": "markdown",
      "source": [
        "Q-1) What is Python, and why is it popular"
      ],
      "metadata": {
        "id": "FyGwfskoCYpF"
      }
    },
    {
      "cell_type": "markdown",
      "source": [
        "A-1) Python is a high-level, interpreted, general-purpose programming language known for its simplicity and readability. Reasons for popularity:\n",
        "\n",
        "-Easy syntax similar to English\n",
        "\n",
        "-Large standard library and community support\n",
        "\n",
        "-Versatile (used in web dev, data science, automation, AI, etc.)\n",
        "\n",
        "-Cross-platform and open-source"
      ],
      "metadata": {
        "id": "4GC2ktWnDR_V"
      }
    },
    {
      "cell_type": "markdown",
      "source": [
        "Q-2)What is an interpreter in Python?"
      ],
      "metadata": {
        "id": "Ml9m4NOKDCxX"
      }
    },
    {
      "cell_type": "markdown",
      "source": [
        "A-2)An interpreter executes Python code line-by-line, converting high-level code into machine-readable instructions at runtime.\n",
        "Python uses the CPython interpreter by default."
      ],
      "metadata": {
        "id": "l_OzCW-ZDVFH"
      }
    },
    {
      "cell_type": "markdown",
      "source": [
        "Q-3) What are pre-defined keywords in Python?"
      ],
      "metadata": {
        "id": "PLcVxzERDg3v"
      }
    },
    {
      "cell_type": "markdown",
      "source": [
        "A-3)Keywords are reserved words that have special meaning in Python (e.g., if, else, while, True, None).\n",
        "They cannot be used as variable names."
      ],
      "metadata": {
        "id": "gPR-xCKtDk1j"
      }
    },
    {
      "cell_type": "code",
      "source": [
        "#example:\n",
        "import keyword\n",
        "print(keyword.kwlist)"
      ],
      "metadata": {
        "colab": {
          "base_uri": "https://localhost:8080/"
        },
        "id": "cSR8282cD60q",
        "outputId": "e7545c29-fd22-4985-8e56-7c2f935b8271"
      },
      "execution_count": 3,
      "outputs": [
        {
          "output_type": "stream",
          "name": "stdout",
          "text": [
            "['False', 'None', 'True', 'and', 'as', 'assert', 'async', 'await', 'break', 'class', 'continue', 'def', 'del', 'elif', 'else', 'except', 'finally', 'for', 'from', 'global', 'if', 'import', 'in', 'is', 'lambda', 'nonlocal', 'not', 'or', 'pass', 'raise', 'return', 'try', 'while', 'with', 'yield']\n"
          ]
        }
      ]
    },
    {
      "cell_type": "markdown",
      "source": [
        "Q-4)Can keywords be used as variable names?"
      ],
      "metadata": {
        "id": "BtMEHJsgEFj-"
      }
    },
    {
      "cell_type": "markdown",
      "source": [
        "A-4)No, keywords cannot be used as variable names.\n",
        "Using them will cause a SyntaxError."
      ],
      "metadata": {
        "id": "tI9aKtrOEWy1"
      }
    },
    {
      "cell_type": "code",
      "source": [
        "#example (invalid)\n",
        "\n",
        "if = 5"
      ],
      "metadata": {
        "colab": {
          "base_uri": "https://localhost:8080/",
          "height": 110
        },
        "id": "CSvrdkSqEfgl",
        "outputId": "47bfa083-972a-4dca-947d-0c021256ef66"
      },
      "execution_count": 6,
      "outputs": [
        {
          "output_type": "error",
          "ename": "SyntaxError",
          "evalue": "invalid syntax (ipython-input-6-1283909809.py, line 3)",
          "traceback": [
            "\u001b[0;36m  File \u001b[0;32m\"/tmp/ipython-input-6-1283909809.py\"\u001b[0;36m, line \u001b[0;32m3\u001b[0m\n\u001b[0;31m    if = 5\u001b[0m\n\u001b[0m       ^\u001b[0m\n\u001b[0;31mSyntaxError\u001b[0m\u001b[0;31m:\u001b[0m invalid syntax\n"
          ]
        }
      ]
    },
    {
      "cell_type": "markdown",
      "source": [
        "Q-5) What is mutability in Python?"
      ],
      "metadata": {
        "id": "eansMxHYExJd"
      }
    },
    {
      "cell_type": "markdown",
      "source": [
        "A-5) Mutability refers to whether an object can be changed after it’s created.\n",
        "\n",
        "-Mutable: can be changed (e.g., list, dict)\n",
        "\n",
        "-Immutable: cannot be changed (e.g., int, str, tuple)"
      ],
      "metadata": {
        "id": "LiGcWEv5E2kN"
      }
    },
    {
      "cell_type": "markdown",
      "source": [
        "Q-6)Why are lists mutable, but tuples are immutable?"
      ],
      "metadata": {
        "id": "kgCyN1E7FQrp"
      }
    },
    {
      "cell_type": "markdown",
      "source": [
        "A-6)\n",
        "-Lists are designed for dynamic data — you can add, remove, or change items.\n",
        "\n",
        "-Tuples are fixed once created — used to protect data from being modified."
      ],
      "metadata": {
        "id": "8l82k9S_FT-5"
      }
    },
    {
      "cell_type": "code",
      "source": [
        "#Example (mutable)\n",
        "\n",
        "my_list = [1, 2, 3]\n",
        "my_list[0]=100"
      ],
      "metadata": {
        "id": "BRxGp9YiFgp5"
      },
      "execution_count": 7,
      "outputs": []
    },
    {
      "cell_type": "code",
      "source": [
        "#immutable\n",
        "\n",
        "my_tuple = (1, 2, 3)\n",
        "my_tuple[0] = 100"
      ],
      "metadata": {
        "colab": {
          "base_uri": "https://localhost:8080/",
          "height": 183
        },
        "id": "hRuSVBPlF9ER",
        "outputId": "53952258-e054-4f2f-a381-218e132a4d5f"
      },
      "execution_count": 8,
      "outputs": [
        {
          "output_type": "error",
          "ename": "TypeError",
          "evalue": "'tuple' object does not support item assignment",
          "traceback": [
            "\u001b[0;31m---------------------------------------------------------------------------\u001b[0m",
            "\u001b[0;31mTypeError\u001b[0m                                 Traceback (most recent call last)",
            "\u001b[0;32m/tmp/ipython-input-8-2950845235.py\u001b[0m in \u001b[0;36m<cell line: 0>\u001b[0;34m()\u001b[0m\n\u001b[1;32m      2\u001b[0m \u001b[0;34m\u001b[0m\u001b[0m\n\u001b[1;32m      3\u001b[0m \u001b[0mmy_tuple\u001b[0m \u001b[0;34m=\u001b[0m \u001b[0;34m(\u001b[0m\u001b[0;36m1\u001b[0m\u001b[0;34m,\u001b[0m \u001b[0;36m2\u001b[0m\u001b[0;34m,\u001b[0m \u001b[0;36m3\u001b[0m\u001b[0;34m)\u001b[0m\u001b[0;34m\u001b[0m\u001b[0;34m\u001b[0m\u001b[0m\n\u001b[0;32m----> 4\u001b[0;31m \u001b[0mmy_tuple\u001b[0m\u001b[0;34m[\u001b[0m\u001b[0;36m0\u001b[0m\u001b[0;34m]\u001b[0m \u001b[0;34m=\u001b[0m \u001b[0;36m100\u001b[0m\u001b[0;34m\u001b[0m\u001b[0;34m\u001b[0m\u001b[0m\n\u001b[0m",
            "\u001b[0;31mTypeError\u001b[0m: 'tuple' object does not support item assignment"
          ]
        }
      ]
    },
    {
      "cell_type": "markdown",
      "source": [
        "Q-7)What is the difference between == and is operators?"
      ],
      "metadata": {
        "id": "gPrgsrQTGO_w"
      }
    },
    {
      "cell_type": "markdown",
      "source": [
        "A-7)\n",
        ">== checks if values are equal.\n",
        "\n",
        ">is checks if both variables refer to the same object in memory."
      ],
      "metadata": {
        "id": "abTgJE4vDlUI"
      }
    },
    {
      "cell_type": "code",
      "source": [
        "#Example\n",
        "\n",
        "a = [1, 2]\n",
        "b = [1, 2]\n",
        "print(a == b)\n",
        "print(a is b)"
      ],
      "metadata": {
        "colab": {
          "base_uri": "https://localhost:8080/"
        },
        "id": "gzssHQaXGuHt",
        "outputId": "d0a5d867-f912-43a5-8b74-c606a054cad5"
      },
      "execution_count": 9,
      "outputs": [
        {
          "output_type": "stream",
          "name": "stdout",
          "text": [
            "True\n",
            "False\n"
          ]
        }
      ]
    },
    {
      "cell_type": "markdown",
      "source": [
        "Q-8) What are logical operators in Python?"
      ],
      "metadata": {
        "id": "0J-W70VPG5mc"
      }
    },
    {
      "cell_type": "markdown",
      "source": [
        "A-8)Logical operators are used to combine boolean expressions:\n",
        "\n",
        ">and: True if both are True\n",
        "\n",
        ">or: True if at least one is True\n",
        "\n",
        ">not: Reverses the condition"
      ],
      "metadata": {
        "id": "9MwIQ5o_G-PE"
      }
    },
    {
      "cell_type": "code",
      "source": [
        "#example:\n",
        "\n",
        "x = 5\n",
        "print(x > 2 and x < 10)"
      ],
      "metadata": {
        "colab": {
          "base_uri": "https://localhost:8080/"
        },
        "id": "1S0I1DQcHL1R",
        "outputId": "36bdcc08-9327-4210-e437-de1179aebb36"
      },
      "execution_count": 10,
      "outputs": [
        {
          "output_type": "stream",
          "name": "stdout",
          "text": [
            "True\n"
          ]
        }
      ]
    },
    {
      "cell_type": "markdown",
      "source": [
        "Q-9)What is type casting in Python?"
      ],
      "metadata": {
        "id": "wNirf0hTHXSu"
      }
    },
    {
      "cell_type": "markdown",
      "source": [
        "A-9)Type casting means converting one data type to another."
      ],
      "metadata": {
        "id": "NoX1AkaWHlaa"
      }
    },
    {
      "cell_type": "code",
      "source": [
        "#Example:\n",
        "\n",
        "x = \"10\"\n",
        "y = int(x)\n",
        "\n",
        "type(y)"
      ],
      "metadata": {
        "colab": {
          "base_uri": "https://localhost:8080/"
        },
        "id": "7WC2WLXUHoBe",
        "outputId": "89267c05-f895-48d7-c013-62899401bb7b"
      },
      "execution_count": 12,
      "outputs": [
        {
          "output_type": "execute_result",
          "data": {
            "text/plain": [
              "int"
            ]
          },
          "metadata": {},
          "execution_count": 12
        }
      ]
    },
    {
      "cell_type": "markdown",
      "source": [
        "Q-10)What is the difference between implicit and explicit type casting?"
      ],
      "metadata": {
        "id": "3ur651dYH13C"
      }
    },
    {
      "cell_type": "markdown",
      "source": [
        "A-10)\n",
        "**Implicit**: Python automatically converts types."
      ],
      "metadata": {
        "id": "EPMtJALjH7UE"
      }
    },
    {
      "cell_type": "code",
      "source": [
        "x = 5 + 2.0\n",
        "\n",
        "print(x)\n",
        "type(x)"
      ],
      "metadata": {
        "colab": {
          "base_uri": "https://localhost:8080/"
        },
        "id": "u3aY4xwOIF2l",
        "outputId": "54e93eae-a070-4235-9ea0-a05b70b87754"
      },
      "execution_count": 16,
      "outputs": [
        {
          "output_type": "stream",
          "name": "stdout",
          "text": [
            "7.0\n"
          ]
        },
        {
          "output_type": "execute_result",
          "data": {
            "text/plain": [
              "float"
            ]
          },
          "metadata": {},
          "execution_count": 16
        }
      ]
    },
    {
      "cell_type": "markdown",
      "source": [
        "Explicit: You manually convert types using functions like int(), str(), float(), etc."
      ],
      "metadata": {
        "id": "VGz7jhYdIZoP"
      }
    },
    {
      "cell_type": "code",
      "source": [
        "x = int(\"5\")\n",
        "\n",
        "type(x)"
      ],
      "metadata": {
        "colab": {
          "base_uri": "https://localhost:8080/"
        },
        "id": "-uW3mN3QIg1r",
        "outputId": "81a2377d-2358-460e-e9b9-7d484de70d17"
      },
      "execution_count": 18,
      "outputs": [
        {
          "output_type": "execute_result",
          "data": {
            "text/plain": [
              "int"
            ]
          },
          "metadata": {},
          "execution_count": 18
        }
      ]
    },
    {
      "cell_type": "markdown",
      "source": [
        "Q-11)What is the purpose of conditional statements in Python?"
      ],
      "metadata": {
        "id": "1zsJdrCYInUv"
      }
    },
    {
      "cell_type": "markdown",
      "source": [
        "A-11)Conditional statements allow decision-making in code using if, elif, and else to execute code based on conditions."
      ],
      "metadata": {
        "id": "DXPEf3a0Ir-E"
      }
    },
    {
      "cell_type": "markdown",
      "source": [
        "Q-12)How does the elif statement work?"
      ],
      "metadata": {
        "id": "HemCz6SkI2yJ"
      }
    },
    {
      "cell_type": "markdown",
      "source": [
        "A-12)elif stands for \"else if\" — it checks another condition if the previous if was false"
      ],
      "metadata": {
        "id": "-Z1wL8CBI43u"
      }
    },
    {
      "cell_type": "code",
      "source": [
        "#example:\n",
        "\n",
        "x = 10\n",
        "if x > 20:\n",
        "    print(\"Greater than 20\")\n",
        "elif x == 10:\n",
        "    print(\"Equal to 10\")\n",
        "else:\n",
        "    print(\"Something else\")\n"
      ],
      "metadata": {
        "colab": {
          "base_uri": "https://localhost:8080/"
        },
        "id": "ymQWzlEII_lX",
        "outputId": "7201b71d-e018-474e-c79c-dc62c0691378"
      },
      "execution_count": 20,
      "outputs": [
        {
          "output_type": "stream",
          "name": "stdout",
          "text": [
            "Equal to 10\n"
          ]
        }
      ]
    },
    {
      "cell_type": "markdown",
      "source": [
        "Q-13) What is the difference between for and while loops?"
      ],
      "metadata": {
        "id": "xPUy2j9KJPs8"
      }
    },
    {
      "cell_type": "markdown",
      "source": [
        "A-13)\n",
        ">for: used when number of iterations is known (e.g., iterating over a list)\n",
        "\n",
        ">while: used when the condition is checked at each iteration, and may not know how many times"
      ],
      "metadata": {
        "id": "RFWumeKmJVdJ"
      }
    },
    {
      "cell_type": "markdown",
      "source": [
        "Q-14)Describe a scenario where a while loop is more suitable than a for loop."
      ],
      "metadata": {
        "id": "PrXS6f9vJ8d2"
      }
    },
    {
      "cell_type": "markdown",
      "source": [
        "A-14)Scenario: Taking user input until they enter quit."
      ],
      "metadata": {
        "id": "UNKNkJ1hKAjP"
      }
    },
    {
      "cell_type": "code",
      "source": [
        "user_input = \"\"\n",
        "while user_input != \"quit\":\n",
        "    user_input = input(\"My name is: \")\n",
        "    user_input = input('my age is: ')"
      ],
      "metadata": {
        "colab": {
          "base_uri": "https://localhost:8080/"
        },
        "id": "ii6zS2lcIFxm",
        "outputId": "f10b9c93-9a46-49d0-80f2-560d8cb0a0b8"
      },
      "execution_count": null,
      "outputs": [
        {
          "name": "stdout",
          "output_type": "stream",
          "text": [
            "My name is: Waiz\n"
          ]
        }
      ]
    },
    {
      "cell_type": "code",
      "execution_count": null,
      "metadata": {
        "id": "MULNfrQBB_Pe"
      },
      "outputs": [],
      "source": []
    },
    {
      "cell_type": "markdown",
      "source": [
        "# New Section"
      ],
      "metadata": {
        "id": "sicTxbRbL93C"
      }
    },
    {
      "cell_type": "code",
      "source": [],
      "metadata": {
        "id": "Xi6rzWPdMwnv"
      },
      "execution_count": null,
      "outputs": []
    }
  ]
}